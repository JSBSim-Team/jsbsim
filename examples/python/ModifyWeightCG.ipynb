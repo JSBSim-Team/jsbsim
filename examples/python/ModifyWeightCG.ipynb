{
 "cells": [
  {
   "cell_type": "code",
   "execution_count": 1,
   "metadata": {},
   "outputs": [
    {
     "output_type": "stream",
     "name": "stdout",
     "text": [
      "     48235 \n15172\n8097.63\n8097.63\n8097.63\n790.8\n"
     ]
    }
   ],
   "source": [
    "# Developed by Guilherme A. L. da Silva - aerothermalsolutions.co\n",
    "\n",
    "import xml.etree.ElementTree as ET\n",
    "\n",
    "# script to test changing aicraft XML\n",
    "# actually a how-to procedure\n",
    "# Open original file\n",
    "tree = ET.parse('../aircraft/global5000/global5000.xml')\n",
    "\n",
    "#XMl Tree\n",
    "root = tree.getroot()\n",
    "\n",
    "# finding the state tag and their child attributes.\n",
    "for x in root.findall('mass_balance'):\n",
    "    #get the current value\n",
    "    y = x.find('emptywt').text\n",
    "    #put a new value\n",
    "    x.find('emptywt').text='     48235 '\n",
    "    print(y)\n",
    "\n",
    "for x in root.findall('mass_balance/pointmass'):\n",
    "    #get the current value\n",
    "    y = x.find('weight').text\n",
    "    #put a new value\n",
    "    x.find('weight').text=' 15172 '\n",
    "    print(y)\n",
    "\n",
    "for x in root.findall('propulsion/tank'):\n",
    "    #get the current value\n",
    "    y = x.find('contents').text\n",
    "    #put a new value\n",
    "    x.find('contents').text=' 2000 '\n",
    "    print(y)\n",
    "\n",
    "for x in root.findall('mass_balance/location'):\n",
    "    #get the current value\n",
    "    y = x.find('x').text\n",
    "    #put a new value\n",
    "    x.find('x').text=' 750 '\n",
    "    print(y)\n",
    "\n",
    "# Write back to file\n",
    "tree.write('../aircraft/global5000/change_test.xml')"
   ]
  },
  {
   "cell_type": "code",
   "execution_count": null,
   "metadata": {},
   "outputs": [],
   "source": []
  }
 ],
 "metadata": {
  "kernelspec": {
   "name": "python385jvsc74a57bd099a7fd7f1f5c5eeaf13d6ce705a1c86617a0d8386dd24e8f9aacd786fbea9594",
   "display_name": "Python 3.8.5 64-bit ('base': conda)"
  },
  "language_info": {
   "codemirror_mode": {
    "name": "ipython",
    "version": 3
   },
   "file_extension": ".py",
   "mimetype": "text/x-python",
   "name": "python",
   "nbconvert_exporter": "python",
   "pygments_lexer": "ipython3",
   "version": "3.8.5"
  }
 },
 "nbformat": 4,
 "nbformat_minor": 4
}