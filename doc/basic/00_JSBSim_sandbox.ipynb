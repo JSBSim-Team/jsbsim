{
 "cells": [
  {
   "cell_type": "markdown",
   "metadata": {},
   "source": [
    "# Exploring Python utils for `JSBSim`"
   ]
  },
  {
   "cell_type": "markdown",
   "metadata": {},
   "source": [
    "## Where are we?"
   ]
  },
  {
   "cell_type": "code",
   "execution_count": 1,
   "metadata": {},
   "outputs": [
    {
     "data": {
      "text/plain": [
       "'/mnt/c/Users/agodemar/JSBSim_PROJECT/jsbsim-code/doc/basic'"
      ]
     },
     "execution_count": 1,
     "metadata": {},
     "output_type": "execute_result"
    }
   ],
   "source": [
    "%pwd"
   ]
  },
  {
   "cell_type": "markdown",
   "metadata": {},
   "source": [
    "## Setup Python utility functions/classes"
   ]
  },
  {
   "cell_type": "code",
   "execution_count": 2,
   "metadata": {},
   "outputs": [],
   "source": [
    "%run ../python/JSBSim_nb_utils.py"
   ]
  },
  {
   "cell_type": "markdown",
   "metadata": {},
   "source": [
    "## The `SandBox` class"
   ]
  },
  {
   "cell_type": "markdown",
   "metadata": {},
   "source": [
    "A `SandBox` object creates a temporary directory. The constructor must receive as input the relative path to the `JSBSim` root dir."
   ]
  },
  {
   "cell_type": "code",
   "execution_count": 3,
   "metadata": {},
   "outputs": [
    {
     "name": "stdout",
     "output_type": "stream",
     "text": [
      "\u001b[0m\u001b[01;32m00_JSBSim_sandbox.ipynb\u001b[0m*  \u001b[01;32m01_JSBSim_Setup.ipynb\u001b[0m*  \u001b[34;42mtmpyemfj0h_\u001b[0m/\r\n"
     ]
    }
   ],
   "source": [
    "sandbox = SandBox('../../') # pass the JSBSim root dir\n",
    "%ls"
   ]
  },
  {
   "cell_type": "markdown",
   "metadata": {},
   "source": [
    "Some low-level data"
   ]
  },
  {
   "cell_type": "code",
   "execution_count": 4,
   "metadata": {},
   "outputs": [
    {
     "name": "stdout",
     "output_type": "stream",
     "text": [
      "Temporary dir: /mnt/c/Users/agodemar/JSBSim_PROJECT/jsbsim-code/doc/basic/tmpyemfj0h_\n",
      "Relative path to JSBSim root dir: ../..\n"
     ]
    }
   ],
   "source": [
    "print('Temporary dir: {0}'.format(sandbox._tmpdir))\n",
    "print('Relative path to JSBSim root dir: {0}'.format(sandbox._relpath_to_jsbsim))"
   ]
  },
  {
   "cell_type": "markdown",
   "metadata": {},
   "source": [
    "## The `jsbsim.FDMExec` class"
   ]
  },
  {
   "cell_type": "markdown",
   "metadata": {},
   "source": [
    "The utility function `CreateFDM` receives as input a `SandBox` object and returns an object of the class `jsbsim.FDMExec` (an interface class exposing JSBSim internals to Python)."
   ]
  },
  {
   "cell_type": "code",
   "execution_count": 5,
   "metadata": {},
   "outputs": [],
   "source": [
    "fdm = CreateFDM(sandbox)"
   ]
  },
  {
   "cell_type": "code",
   "execution_count": 6,
   "metadata": {},
   "outputs": [
    {
     "name": "stdout",
     "output_type": "stream",
     "text": [
      "FGFDMExec \n",
      "root dir\t:\tb'tmpyemfj0h_'\n",
      "aircraft path\t:\tb'tmpyemfj0h_/../../aircraft'\n",
      "engine path\t:\tb'tmpyemfj0h_/../../engine'\n",
      "systems path\t:\tb'tmpyemfj0h_/../../systems'\n",
      "\n"
     ]
    }
   ],
   "source": [
    "print(fdm)"
   ]
  },
  {
   "cell_type": "code",
   "execution_count": 7,
   "metadata": {},
   "outputs": [
    {
     "data": {
      "text/plain": [
       "0.008333333333333333"
      ]
     },
     "execution_count": 7,
     "metadata": {},
     "output_type": "execute_result"
    }
   ],
   "source": [
    "fdm.get_delta_t()"
   ]
  },
  {
   "cell_type": "markdown",
   "metadata": {},
   "source": [
    "## Cleanup by erasing the `SandBox` object"
   ]
  },
  {
   "cell_type": "markdown",
   "metadata": {},
   "source": [
    "A SandBox object can erase its associated temporary directory:"
   ]
  },
  {
   "cell_type": "code",
   "execution_count": 8,
   "metadata": {},
   "outputs": [
    {
     "name": "stdout",
     "output_type": "stream",
     "text": [
      "\u001b[0m\u001b[01;32m00_JSBSim_sandbox.ipynb\u001b[0m*  \u001b[01;32m01_JSBSim_Setup.ipynb\u001b[0m*\r\n"
     ]
    }
   ],
   "source": [
    "sandbox.erase()\n",
    "%ls"
   ]
  }
 ],
 "metadata": {
  "kernelspec": {
   "display_name": "Python 3",
   "language": "python",
   "name": "python3"
  },
  "language_info": {
   "codemirror_mode": {
    "name": "ipython",
    "version": 3
   },
   "file_extension": ".py",
   "mimetype": "text/x-python",
   "name": "python",
   "nbconvert_exporter": "python",
   "pygments_lexer": "ipython3",
   "version": "3.6.4"
  }
 },
 "nbformat": 4,
 "nbformat_minor": 2
}
